{
 "cells": [
  {
   "cell_type": "code",
   "execution_count": 159,
   "metadata": {},
   "outputs": [],
   "source": [
    "import numpy as np\n",
    "import pandas as pd\n",
    "import matplotlib.pyplot as plt\n",
    "%matplotlib inline\n",
    "import seaborn as sns"
   ]
  },
  {
   "cell_type": "code",
   "execution_count": null,
   "metadata": {},
   "outputs": [],
   "source": [
    "df = pd.read_csv(\"Diwali Sales Data.csv\", encoding='unicode_escape')\n",
    "df.head(10)"
   ]
  },
  {
   "cell_type": "code",
   "execution_count": null,
   "metadata": {},
   "outputs": [],
   "source": [
    "df.shape"
   ]
  },
  {
   "cell_type": "code",
   "execution_count": null,
   "metadata": {},
   "outputs": [],
   "source": [
    "df.info()"
   ]
  },
  {
   "cell_type": "code",
   "execution_count": null,
   "metadata": {},
   "outputs": [],
   "source": [
    "df.drop(['Status','unnamed1'], axis =1, inplace=True)\n",
    "df.head()"
   ]
  },
  {
   "cell_type": "code",
   "execution_count": null,
   "metadata": {},
   "outputs": [],
   "source": [
    "df.isnull().sum()"
   ]
  },
  {
   "cell_type": "code",
   "execution_count": null,
   "metadata": {},
   "outputs": [],
   "source": [
    "df.dropna(inplace= True)\n",
    "df.shape"
   ]
  },
  {
   "cell_type": "code",
   "execution_count": null,
   "metadata": {},
   "outputs": [],
   "source": [
    "df['Amount'] = df['Amount'].astype('int')\n",
    "df.head()"
   ]
  },
  {
   "cell_type": "code",
   "execution_count": null,
   "metadata": {},
   "outputs": [],
   "source": [
    "total_amount = int(df['Amount'].sum())\n",
    "print(\"Total Sales Amount during Diwali Sales: ₹%i\"%total_amount )"
   ]
  },
  {
   "cell_type": "markdown",
   "metadata": {},
   "source": [
    "## EXPLORATORY DATA ANALYSIS:"
   ]
  },
  {
   "cell_type": "markdown",
   "metadata": {},
   "source": [
    "**Gender & Age**"
   ]
  },
  {
   "cell_type": "code",
   "execution_count": null,
   "metadata": {},
   "outputs": [],
   "source": [
    "ax = sns.countplot(x = 'Gender', data=df,hue= 'Gender')\n",
    "for bars in ax.containers:\n",
    "    ax.bar_label(bars)\n"
   ]
  },
  {
   "cell_type": "code",
   "execution_count": null,
   "metadata": {},
   "outputs": [],
   "source": [
    "ax = sns.countplot(data = df, x = 'Age Group', hue = 'Gender')\n",
    "\n",
    "for bars in ax.containers:\n",
    "    ax.bar_label(bars)"
   ]
  },
  {
   "cell_type": "code",
   "execution_count": null,
   "metadata": {},
   "outputs": [],
   "source": [
    "cust_age = df.groupby(['Age Group'], as_index=False)['Amount'].sum().sort_values(by = 'Amount', ascending= False)\n",
    "ff_age= sns.barplot(x='Age Group', y='Amount', data=cust_age,hue='Age Group')\n",
    "for bars in ff_age.containers:\n",
    "    ff_age.bar_label(bars, fmt='%.0f')"
   ]
  },
  {
   "cell_type": "code",
   "execution_count": null,
   "metadata": {},
   "outputs": [],
   "source": [
    "per = (3269/11239)*100\n",
    "print(\"Female customers of age group 26-35 have been most active in the diwali sales accounting over %.2f%% of total orders.\"%per)"
   ]
  },
  {
   "cell_type": "markdown",
   "metadata": {},
   "source": [
    "Female customers of age group 26-35 have been most active in the diwali sales accounting over 29.09% of total orders."
   ]
  },
  {
   "cell_type": "markdown",
   "metadata": {},
   "source": [
    "**State**"
   ]
  },
  {
   "cell_type": "code",
   "execution_count": null,
   "metadata": {},
   "outputs": [],
   "source": [
    "sales_state = df.groupby(['State'], as_index=False)['Amount'].sum().sort_values(by= 'Amount',ascending=False)\n",
    "\n",
    "sns.set(rc={'figure.figsize':(15,5)})\n",
    "ff_state = sns.barplot(x='State', y='Amount', data= sales_state, hue='State')\n",
    "plt.xticks(rotation= 45)\n",
    "for bars in ff_state.containers:\n",
    "    ff_state.bar_label(bars, fmt='%.0f')\n",
    "plt.show()"
   ]
  },
  {
   "cell_type": "code",
   "execution_count": null,
   "metadata": {},
   "outputs": [],
   "source": [
    "orders_state = df.groupby((\"State\"), as_index = False)['Orders'].sum().sort_values(by = \"Orders\", ascending= False)\n",
    "ff_state_o = sns.barplot(x = \"State\", y = \"Orders\", data = orders_state, hue = \"State\")\n",
    "plt.xticks(rotation = 45)\n",
    "for bars in ff_state_o.containers:\n",
    "    ff_state_o.bar_label(bars, fmt='%.0f')\n",
    "plt.show()"
   ]
  },
  {
   "cell_type": "markdown",
   "metadata": {},
   "source": [
    "Thus, from above graphs we can say that most orders and sales amount were from Uttar Pradesh, Maharashtra, and Karnataka "
   ]
  },
  {
   "cell_type": "markdown",
   "metadata": {},
   "source": [
    "**Zone**"
   ]
  },
  {
   "cell_type": "code",
   "execution_count": null,
   "metadata": {},
   "outputs": [],
   "source": [
    "ax = sns.countplot(x= 'Zone',data= df, hue = 'Zone')\n",
    "for bars in ax.containers:\n",
    "    ax.bar_label(bars)\n"
   ]
  },
  {
   "cell_type": "code",
   "execution_count": null,
   "metadata": {},
   "outputs": [],
   "source": [
    "ff = df.groupby((\"Zone\"), as_index=False)['Amount'].sum().sort_values(by= \"Amount\", ascending= False)\n",
    "zone_ff = sns.barplot(x='Zone', y='Amount',data=ff, hue= 'Zone')\n",
    "for bars in zone_ff.containers:\n",
    "    zone_ff.bar_label(bars, fmt= '%.0f')\n",
    "plt.show()"
   ]
  },
  {
   "cell_type": "markdown",
   "metadata": {},
   "source": [
    "From above graph we can conclude that most orders were placed from the central zone amounting ₹41600872"
   ]
  },
  {
   "cell_type": "code",
   "execution_count": null,
   "metadata": {},
   "outputs": [],
   "source": [
    "df['Marital_Status'] = df[\"Marital_Status\"].replace({\n",
    "    0 : \"Unmarried\",\n",
    "    1 : \"Married\"\n",
    "})\n",
    "df"
   ]
  },
  {
   "cell_type": "markdown",
   "metadata": {},
   "source": [
    "**MARITAL STATUS**"
   ]
  },
  {
   "cell_type": "code",
   "execution_count": null,
   "metadata": {},
   "outputs": [],
   "source": [
    "ax = sns.countplot(data= df, x = \"Marital_Status\", hue= \"Gender\")\n",
    "sns.set(rc={'figure.figsize' : (15,5) })\n",
    "for bars in ax.containers:\n",
    "    ax.bar_label(bars) "
   ]
  },
  {
   "cell_type": "code",
   "execution_count": null,
   "metadata": {},
   "outputs": [],
   "source": [
    "sales_mar = df.groupby([\"Marital_Status\",\"Gender\"], as_index= False)['Amount'].sum().sort_values(by=\"Amount\", ascending=False)\n",
    "sns.barplot(x = \"Marital_Status\",y = \"Amount\", data= sales_mar, hue= \"Gender\")\n",
    "plt.show()"
   ]
  },
  {
   "cell_type": "code",
   "execution_count": null,
   "metadata": {},
   "outputs": [],
   "source": [
    "amount = int(sales_mar.iloc[0][\"Amount\"])\n",
    "amount"
   ]
  },
  {
   "cell_type": "markdown",
   "metadata": {},
   "source": [
    "Unmarried Women have placed a total 4576 Orders accounting ₹43786646"
   ]
  },
  {
   "cell_type": "markdown",
   "metadata": {},
   "source": [
    "**OCCUPATION**"
   ]
  },
  {
   "cell_type": "code",
   "execution_count": null,
   "metadata": {},
   "outputs": [],
   "source": [
    "sns.set(rc={'figure.figsize' : (20,9)})\n",
    "ax = sns.countplot(x = \"Occupation\", data=df, hue=\"Occupation\")\n",
    "for bars in ax.containers:\n",
    "    ax.bar_label(bars)\n",
    "plt.show()"
   ]
  },
  {
   "cell_type": "code",
   "execution_count": null,
   "metadata": {},
   "outputs": [],
   "source": [
    "sales_occ = df.groupby((\"Occupation\"),as_index= False)['Amount'].sum().sort_values(by = \"Amount\", ascending = False)\n",
    "sns.barplot(x = \"Occupation\", y = \"Amount\", data= sales_occ, hue = \"Occupation\")\n",
    "plt.show()"
   ]
  },
  {
   "cell_type": "code",
   "execution_count": null,
   "metadata": {},
   "outputs": [],
   "source": [
    "occ_amount = int(sales_occ.iloc[0]['Amount'])\n",
    "total_amount/occ_amount"
   ]
  },
  {
   "cell_type": "markdown",
   "metadata": {},
   "source": [
    "Customers from  IT Sector have placed highest number of orders amounting a total of ₹14755079 which is 7.20% of total revenue generated during Diwali Sales"
   ]
  },
  {
   "cell_type": "markdown",
   "metadata": {},
   "source": [
    "**PRODUCT CATEGORY**"
   ]
  },
  {
   "cell_type": "code",
   "execution_count": null,
   "metadata": {},
   "outputs": [],
   "source": [
    "sns.set(rc = {'figure.figsize' : (20,5)})\n",
    "ax = sns.countplot(x = \"Product_Category\", data = df, hue = \"Product_Category\")\n",
    "plt.xticks(rotation = 45)\n",
    "for bars in ax.containers:\n",
    "    ax.bar_label(bars)\n",
    "plt.show()"
   ]
  },
  {
   "cell_type": "code",
   "execution_count": null,
   "metadata": {},
   "outputs": [],
   "source": [
    "sales_prod = df.groupby((\"Product_Category\"), as_index = False)[\"Amount\"].sum().sort_values(by=\"Amount\", ascending = False)\n",
    "sns.set(rc= {'figure.figsize' : (20,9)})\n",
    "ff_sales = sns.barplot(x = \"Product_Category\", y = \"Amount\", data= sales_prod, hue= \"Product_Category\")\n",
    "plt.xticks(rotation = 45)\n",
    "for bars in ff_sales.containers:\n",
    "    ff_sales.bar_label(bars, fmt= '%.0f')\n",
    "plt.show()"
   ]
  },
  {
   "cell_type": "code",
   "execution_count": null,
   "metadata": {},
   "outputs": [],
   "source": [
    "amount1 = int(sales_prod.iloc[0]['Amount'])\n",
    "prod1 = sales_prod.iloc[0]['Product_Category']\n",
    "amount0 = int(sales_prod.iloc[-1]['Amount'])\n",
    "prod0 = sales_prod.iloc[-1]['Product_Category']\n",
    "print(f\"{prod1} has accounted for Largest amount of sales at ₹{amount1}\")\n",
    "print(f\"{prod0} has accounted for Least amount of sales at ₹{amount0}\")"
   ]
  },
  {
   "cell_type": "markdown",
   "metadata": {},
   "source": [
    "*From above graphs we can see that most of the sold products are from Food, Clothing and Electronics category*"
   ]
  },
  {
   "cell_type": "markdown",
   "metadata": {},
   "source": [
    "## Conclusion:\n"
   ]
  },
  {
   "cell_type": "markdown",
   "metadata": {},
   "source": [
    "*Married women age group 26-35 yrs from UP,  Maharastra and Karnataka working in IT, Healthcare and Aviation are more likely to buy products from Food, Clothing and Electronics category*"
   ]
  },
  {
   "cell_type": "markdown",
   "metadata": {},
   "source": [
    "# **Customer Segmentation & Revenue Contribution - FM Analysis**"
   ]
  },
  {
   "cell_type": "markdown",
   "metadata": {},
   "source": [
    "## **Objective:** \n",
    "*Analyzing customer purchase behavior using **Frequency-Monetary (FM) Analysis**, segmenting them based on their purchase frequency and contribution to total revenue.*"
   ]
  },
  {
   "cell_type": "code",
   "execution_count": null,
   "metadata": {},
   "outputs": [],
   "source": [
    "cust_id = df.groupby((\"User_ID\"), as_index = False)['Amount'].sum().sort_values(by = \"Amount\" , ascending= False).head(10)\n",
    "cust_id"
   ]
  },
  {
   "cell_type": "code",
   "execution_count": null,
   "metadata": {},
   "outputs": [],
   "source": [
    "frequency = df['User_ID'].value_counts()\n",
    "loy1_fre = int(frequency.iloc[0])\n",
    "loy1_id = int(frequency.index[0])\n",
    "loy1_name = df[df['User_ID'] == loy1_id]['Cust_name'].iloc[0]\n",
    "loy1_am = int(cust_id.iloc[0]['Amount'])\n",
    "loy1_name\n",
    "print(f\"{loy1_name} with customer id:{loy1_id} has placed most orders with a total of {loy1_fre} orders amounting a total of ₹{loy1_am}\")"
   ]
  },
  {
   "cell_type": "code",
   "execution_count": null,
   "metadata": {},
   "outputs": [],
   "source": [
    "high_fre = frequency[frequency>10]\n",
    "high_fre_id = high_fre.index\n",
    "high_fre_name = df[df['User_ID'].isin(high_fre_id)]['Cust_name'].unique()\n",
    "high_fre_name"
   ]
  },
  {
   "cell_type": "code",
   "execution_count": null,
   "metadata": {},
   "outputs": [],
   "source": [
    "high_fre_rev = int(df[df['User_ID'].isin(high_fre_id)]['Amount'].sum())\n",
    "print(\"High Frequency Customers who have done purchases more than 10 times\\naccount for a total revenue of ₹%i with %.2f%% of total sales amount\"%(high_fre_rev,(high_fre_rev/total_amount)*100))"
   ]
  },
  {
   "cell_type": "code",
   "execution_count": null,
   "metadata": {},
   "outputs": [],
   "source": [
    "mid_fre = frequency[(10>=frequency) & (frequency>3)]\n",
    "mid_fre_rev = int(df[df['User_ID'].isin(mid_fre.index)]['Amount'].sum())\n",
    "print(\"Medium Frequency Customers who have done purchases more than 3 times and less than or equal to 10 times\\naccount for a total revenue of ₹%i with %.2f%% of total sales amount\"%(mid_fre_rev,(mid_fre_rev/total_amount)*100))\n"
   ]
  },
  {
   "cell_type": "code",
   "execution_count": null,
   "metadata": {},
   "outputs": [],
   "source": [
    "low_fre = frequency[3>= frequency]\n",
    "low_fre_rev = int(df[df['User_ID'].isin(low_fre.index)]['Amount'].sum())\n",
    "print(\"Low Frequency Customers who have done purchases less than or equal to 3 times\\naccount for a total revenue of ₹%i with %.2f%% of total sales amount\"%(low_fre_rev,(low_fre_rev/total_amount)*100))"
   ]
  },
  {
   "cell_type": "markdown",
   "metadata": {},
   "source": [
    "**Key Insights:**  \n",
    "-  **Medium-Frequency Customers** (3-10 purchases) incl. 3 contribute the **highest revenue share** of **46.77%**.  \n",
    "-  **Low-Frequency Customers** (≤3 purchases) contribute **40.33%** of the total revenue.  \n",
    "-  **High-Frequency Customers** (>10 purchases) contribute the **12.90%**, showing they are fewer but valuable."
   ]
  },
  {
   "cell_type": "markdown",
   "metadata": {},
   "source": [
    " **Business Takeaways:**  \n",
    "- The **majority of revenue comes from medium-frequency customers**, making them a crucial target for retention and upselling strategies.  \n",
    "- **Low-frequency customers** still contribute significantly and could be encouraged to purchase more through targeted marketing.  \n",
    "- **High-frequency customers**, though fewer, should be nurtured with **VIP programs, exclusive deals, and personalized engagement** to enhance loyalty."
   ]
  },
  {
   "cell_type": "markdown",
   "metadata": {},
   "source": [
    "# **Customer Lifetime Value (LTV) & Purchase Behavior Analysis**  "
   ]
  },
  {
   "cell_type": "code",
   "execution_count": null,
   "metadata": {},
   "outputs": [],
   "source": [
    "ltv_count = df.groupby(['User_ID', 'Cust_name'], as_index=False)['User_ID'].value_counts()\n",
    "ltv_amount = df.groupby(['User_ID', 'Cust_name'], as_index=False)['Amount'].sum()\n",
    "display(ltv_count)\n",
    "display(ltv_amount)"
   ]
  },
  {
   "cell_type": "markdown",
   "metadata": {},
   "source": [
    "**ltv**: lifetime value.  \n",
    "**ltv_count**: Total number of purchases done by a customer in lifetime.  \n",
    "**ltv_amount**: Sum of all purchases by a customer. "
   ]
  },
  {
   "cell_type": "code",
   "execution_count": null,
   "metadata": {},
   "outputs": [],
   "source": [
    "ltv_mean = round(df.groupby(['User_ID', 'Cust_name'], as_index=False)['Amount'].mean(), 2)\n",
    "ltv_mean"
   ]
  },
  {
   "cell_type": "markdown",
   "metadata": {},
   "source": [
    "**ltv_mean**: average revenue a customer generates over their lifetime"
   ]
  },
  {
   "cell_type": "code",
   "execution_count": null,
   "metadata": {},
   "outputs": [],
   "source": [
    "order_count = df.groupby(['User_ID', 'Cust_name'], as_index=False)['Orders'].sum()\n",
    "avg_order = round(df.groupby(['User_ID', 'Cust_name'], as_index=False)['Orders'].mean(), 2)\n",
    "order_count.head(2)"
   ]
  },
  {
   "cell_type": "markdown",
   "metadata": {},
   "source": [
    "**order_count**: Total number of orders by a customer.  \n",
    "**avg_order**: Average number or orders placed by a customer"
   ]
  },
  {
   "cell_type": "code",
   "execution_count": null,
   "metadata": {},
   "outputs": [],
   "source": [
    "AOV = ltv_amount.merge(order_count, on = [\"User_ID\", \"Cust_name\"])\n",
    "AOV[\"Avg_Order_Value\"] =round(AOV['Amount'] / AOV['Orders'], 3)\n",
    "AOV"
   ]
  },
  {
   "cell_type": "markdown",
   "metadata": {},
   "source": [
    "**AOV**: Average Order Value.  \n",
    "AOV indicates *average revenue generated per order*"
   ]
  },
  {
   "cell_type": "markdown",
   "metadata": {},
   "source": [
    "  **Business Insights:**  \n",
    "- Identifies **high-value customers** who contribute the most revenue.  \n",
    "- Helps segment customers based on their **purchase frequency & spending habits**.  \n",
    "- Provides data for **personalized marketing strategies**, such as loyalty programs and bulk purchase incentives.  \n",
    "- Supports business decisions on **pricing, promotions, and customer retention strategies**.  "
   ]
  },
  {
   "cell_type": "markdown",
   "metadata": {},
   "source": [
    "# ***Customer Demographics & Product Preferences***"
   ]
  },
  {
   "cell_type": "code",
   "execution_count": null,
   "metadata": {},
   "outputs": [],
   "source": [
    "sns.set(rc={'figure.figsize': (20,9)})\n",
    "ax = sns.countplot(x='Product_Category',data=df, hue='Gender')\n",
    "for bars in ax.containers:\n",
    "    ax.bar_label(bars)\n",
    "plt.xticks(rotation = 45)\n",
    "plt.show()"
   ]
  },
  {
   "cell_type": "markdown",
   "metadata": {},
   "source": [
    "#### *Customer Preferences by Category*  \n",
    "\n",
    "- **Clothing & Apparel** has attracted the most **Male and Female** customers, followed by **Food** and **Electronics & Gadgets**.  \n",
    "- **Books** and **Hand & Power Tools** categories have a higher number of **Male customers** compared to **Female customers**.  \n",
    "- **Stationery** and **Household Items** have an almost **equal** distribution of **Male and Female customers**.  \n"
   ]
  },
  {
   "cell_type": "code",
   "execution_count": null,
   "metadata": {},
   "outputs": [],
   "source": [
    "ff_age = df.groupby(['Age Group', 'Product_Category'], as_index=False).size()\n",
    "df_age = ff_age.groupby((\"Age Group\")).apply(lambda x: x.nlargest(3,'size'),include_groups=False).reset_index(drop=False)\n",
    "df_age = df_age.drop('level_1', axis=1)\n",
    "df_age"
   ]
  },
  {
   "cell_type": "code",
   "execution_count": null,
   "metadata": {},
   "outputs": [],
   "source": [
    "ax_age = sns.barplot(x='Product_Category',y='size',data =df_age  ,hue=\"Age Group\")\n",
    "for bars in ax_age.containers:\n",
    "    ax_age.bar_label(bars)\n",
    "plt.show()"
   ]
  },
  {
   "cell_type": "markdown",
   "metadata": {},
   "source": [
    "### **Age Group vs Product Category Trends**  \n",
    "\n",
    "- **Clothing & Apparel** is the most purchased category across all age groups, peaking in the **26-35** group with **1,057** purchases.  \n",
    "- **Food** ranks second in most age groups, with its highest demand also in the **26-35** segment (**992** purchases).  \n",
    "- **Electronics & Gadgets** consistently hold third place, with notable interest from the **26-35** group (**832** purchases).  \n",
    "- Senior customers (**55+**) have the lowest purchase count across all categories, with **Clothing & Apparel** and **Food** tying at **103** purchases each.  \n",
    "- The **18-25** age group shows a high preference for **Food**, with purchases (**478**) surpassing Electronics & Gadgets (**343**), indicating a focus on essential or consumable goods.  \n",
    "- **Purchases drop steadily** after the **36-45** age group, showing that middle-aged consumers contribute significantly but decline in spending as they grow older.  \n"
   ]
  }
 ],
 "metadata": {
  "kernelspec": {
   "display_name": "Python 3",
   "language": "python",
   "name": "python3"
  },
  "language_info": {
   "codemirror_mode": {
    "name": "ipython",
    "version": 3
   },
   "file_extension": ".py",
   "mimetype": "text/x-python",
   "name": "python",
   "nbconvert_exporter": "python",
   "pygments_lexer": "ipython3",
   "version": "3.13.0"
  }
 },
 "nbformat": 4,
 "nbformat_minor": 2
}
